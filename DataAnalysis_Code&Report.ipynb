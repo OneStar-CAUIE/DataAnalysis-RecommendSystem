{
 "cells": [
  {
   "cell_type": "markdown",
   "id": "5fe3bbf6",
   "metadata": {},
   "source": [
    "### import library and load data"
   ]
  },
  {
   "cell_type": "code",
   "execution_count": 1,
   "id": "72d1367f",
   "metadata": {},
   "outputs": [],
   "source": [
    "import pandas as pd\n",
    "import numpy as np\n",
    "import matplotlib as plt\n",
    "import seaborn as sns\n",
    "\n",
    "quiet_data = pd.read_csv('quietcafe_data.csv')\n",
    "seoul_quiet_data = pd.read_csv('seoulquietcafe_data.csv')\n",
    "bookcafe_data = pd.read_csv('bookcafe_data.csv')"
   ]
  },
  {
   "cell_type": "markdown",
   "id": "c4e1dfae",
   "metadata": {},
   "source": [
    "### 3개의 데이터를 합친 total_data, bookcafe_data를 사용해서 데이터 분석 진행\n",
    "- bookcafe의 경우 책을 읽거나 공부하기 위한 목적으로 더 많이 갈 것으로 추정해서 여기 키워드 리뷰 중심 분석을 진행하고\n",
    "- 조용한카페 키워드와 bookcafe의 데이터에서 등장하는 키워드들을 합쳐서 분석했을 때는 어떤 차이가 있는지, 공통점이 있는지를 분석해봄"
   ]
  },
  {
   "cell_type": "markdown",
   "id": "16bcbdf9",
   "metadata": {},
   "source": [
    "### 1. total_data Data 가공"
   ]
  },
  {
   "cell_type": "code",
   "execution_count": 2,
   "id": "abbce491",
   "metadata": {},
   "outputs": [],
   "source": [
    "total_data = pd.concat([quiet_data, seoul_quiet_data, bookcafe_data], axis=0)\n",
    "total_data.index = np.arange(0, len(total_data), 1) # 인덱스 리셋"
   ]
  },
  {
   "cell_type": "code",
   "execution_count": 3,
   "id": "d07c8be8",
   "metadata": {},
   "outputs": [
    {
     "data": {
      "text/html": [
       "<div>\n",
       "<style scoped>\n",
       "    .dataframe tbody tr th:only-of-type {\n",
       "        vertical-align: middle;\n",
       "    }\n",
       "\n",
       "    .dataframe tbody tr th {\n",
       "        vertical-align: top;\n",
       "    }\n",
       "\n",
       "    .dataframe thead th {\n",
       "        text-align: right;\n",
       "    }\n",
       "</style>\n",
       "<table border=\"1\" class=\"dataframe\">\n",
       "  <thead>\n",
       "    <tr style=\"text-align: right;\">\n",
       "      <th></th>\n",
       "      <th>place</th>\n",
       "      <th>tag_title</th>\n",
       "      <th>tag_count</th>\n",
       "    </tr>\n",
       "  </thead>\n",
       "  <tbody>\n",
       "    <tr>\n",
       "      <th>0</th>\n",
       "      <td>컵 오브 컴포트</td>\n",
       "      <td>['친절해요', '매장이 청결해요', '집중하기 좋아요', '커피가 맛있어요', '...</td>\n",
       "      <td>[8, 6, 6, 5, 3]</td>\n",
       "    </tr>\n",
       "    <tr>\n",
       "      <th>1</th>\n",
       "      <td>피터패트</td>\n",
       "      <td>['커피가 맛있어요', '디저트가 맛있어요', '친절해요', '인테리어가 멋져요',...</td>\n",
       "      <td>[164, 136, 83, 76, 70]</td>\n",
       "    </tr>\n",
       "    <tr>\n",
       "      <th>2</th>\n",
       "      <td>도로도로커피숍</td>\n",
       "      <td>['커피가 맛있어요', '디저트가 맛있어요', '음료가 맛있어요', '인테리어가 멋...</td>\n",
       "      <td>[80, 62, 49, 44, 42]</td>\n",
       "    </tr>\n",
       "    <tr>\n",
       "      <th>3</th>\n",
       "      <td>LITITCOFFEE</td>\n",
       "      <td>['커피가 맛있어요', '친절해요', '매장이 청결해요', '집중하기 좋아요', '...</td>\n",
       "      <td>[23, 15, 15, 14, 11]</td>\n",
       "    </tr>\n",
       "    <tr>\n",
       "      <th>4</th>\n",
       "      <td>달콤쌉싸롱</td>\n",
       "      <td>['커피가 맛있어요', '가성비가 좋아요', '집중하기 좋아요', '친절해요', '...</td>\n",
       "      <td>[52, 36, 31, 28, 27]</td>\n",
       "    </tr>\n",
       "    <tr>\n",
       "      <th>...</th>\n",
       "      <td>...</td>\n",
       "      <td>...</td>\n",
       "      <td>...</td>\n",
       "    </tr>\n",
       "    <tr>\n",
       "      <th>745</th>\n",
       "      <td>커피랑도서관 정자카페거리점</td>\n",
       "      <td>[]</td>\n",
       "      <td>[]</td>\n",
       "    </tr>\n",
       "    <tr>\n",
       "      <th>746</th>\n",
       "      <td>언더스탠드</td>\n",
       "      <td>[]</td>\n",
       "      <td>[]</td>\n",
       "    </tr>\n",
       "    <tr>\n",
       "      <th>747</th>\n",
       "      <td>청년이음 북카페 &amp; 공방</td>\n",
       "      <td>['커피가 맛있어요', '가성비가 좋아요', '음료가 맛있어요', '친절해요', '...</td>\n",
       "      <td>[17, 13, 12, 11, 3]</td>\n",
       "    </tr>\n",
       "    <tr>\n",
       "      <th>748</th>\n",
       "      <td>커피랑도서관 올림픽공원점</td>\n",
       "      <td>[]</td>\n",
       "      <td>[]</td>\n",
       "    </tr>\n",
       "    <tr>\n",
       "      <th>749</th>\n",
       "      <td>커피랑도서관 은행사거리점</td>\n",
       "      <td>[]</td>\n",
       "      <td>[]</td>\n",
       "    </tr>\n",
       "  </tbody>\n",
       "</table>\n",
       "<p>750 rows × 3 columns</p>\n",
       "</div>"
      ],
      "text/plain": [
       "              place                                          tag_title  \\\n",
       "0          컵 오브 컴포트  ['친절해요', '매장이 청결해요', '집중하기 좋아요', '커피가 맛있어요', '...   \n",
       "1              피터패트  ['커피가 맛있어요', '디저트가 맛있어요', '친절해요', '인테리어가 멋져요',...   \n",
       "2           도로도로커피숍  ['커피가 맛있어요', '디저트가 맛있어요', '음료가 맛있어요', '인테리어가 멋...   \n",
       "3       LITITCOFFEE  ['커피가 맛있어요', '친절해요', '매장이 청결해요', '집중하기 좋아요', '...   \n",
       "4             달콤쌉싸롱  ['커피가 맛있어요', '가성비가 좋아요', '집중하기 좋아요', '친절해요', '...   \n",
       "..              ...                                                ...   \n",
       "745  커피랑도서관 정자카페거리점                                                 []   \n",
       "746           언더스탠드                                                 []   \n",
       "747   청년이음 북카페 & 공방  ['커피가 맛있어요', '가성비가 좋아요', '음료가 맛있어요', '친절해요', '...   \n",
       "748   커피랑도서관 올림픽공원점                                                 []   \n",
       "749   커피랑도서관 은행사거리점                                                 []   \n",
       "\n",
       "                  tag_count  \n",
       "0           [8, 6, 6, 5, 3]  \n",
       "1    [164, 136, 83, 76, 70]  \n",
       "2      [80, 62, 49, 44, 42]  \n",
       "3      [23, 15, 15, 14, 11]  \n",
       "4      [52, 36, 31, 28, 27]  \n",
       "..                      ...  \n",
       "745                      []  \n",
       "746                      []  \n",
       "747     [17, 13, 12, 11, 3]  \n",
       "748                      []  \n",
       "749                      []  \n",
       "\n",
       "[750 rows x 3 columns]"
      ]
     },
     "execution_count": 3,
     "metadata": {},
     "output_type": "execute_result"
    }
   ],
   "source": [
    "total_data"
   ]
  },
  {
   "cell_type": "markdown",
   "id": "b8c434ae",
   "metadata": {},
   "source": [
    "- tag_count의 경우 리뷰가 많은 경우와 적은 경우의 차이가 크므로 이 count 수로 통계를 내면 리뷰가 많은 카페 데이터 중심의 결과가 나타날 것 같아서 빈도 수를 통해서 통계를 냈음"
   ]
  },
  {
   "cell_type": "code",
   "execution_count": 4,
   "id": "b73c0ab2",
   "metadata": {},
   "outputs": [
    {
     "data": {
      "text/plain": [
       "place          0\n",
       "tag_title    197\n",
       "tag_count    195\n",
       "dtype: int64"
      ]
     },
     "execution_count": 4,
     "metadata": {},
     "output_type": "execute_result"
    }
   ],
   "source": [
    "for i in range(len(total_data)):\n",
    "    if len(total_data['tag_title'][i]) == 2:\n",
    "        total_data['tag_title'][i] = np.nan\n",
    "    \n",
    "    if len(total_data['tag_count'][i]) == 2:\n",
    "        total_data['tag_count'][i] = np.nan\n",
    "        \n",
    "total_data.isna().sum() # total_data 결측치"
   ]
  },
  {
   "cell_type": "code",
   "execution_count": 5,
   "id": "da5d4914",
   "metadata": {},
   "outputs": [
    {
     "name": "stdout",
     "output_type": "stream",
     "text": [
      "place        0\n",
      "tag_title    2\n",
      "tag_count    0\n",
      "dtype: int64\n"
     ]
    },
    {
     "data": {
      "text/plain": [
       "717    NaN\n",
       "724    NaN\n",
       "Name: tag_title, dtype: object"
      ]
     },
     "execution_count": 5,
     "metadata": {},
     "output_type": "execute_result"
    }
   ],
   "source": [
    "#tag_title, tag_count 전부 nan 인것은 드랍하기\n",
    "total_data = total_data.dropna(subset=['tag_count'])\n",
    "print(total_data.isna().sum())\n",
    "\n",
    "total_data['tag_title'][total_data['tag_title'].isnull()]"
   ]
  },
  {
   "cell_type": "code",
   "execution_count": 6,
   "id": "b0ecb561",
   "metadata": {},
   "outputs": [
    {
     "name": "stdout",
     "output_type": "stream",
     "text": [
      "place                       달빛정거장\n",
      "tag_title                     NaN\n",
      "tag_count    [19, 17, 16, 15, 10]\n",
      "Name: 717, dtype: object\n",
      "place             즐거운다락방부천시청점\n",
      "tag_title                 NaN\n",
      "tag_count    [11, 3, 3, 3, 2]\n",
      "Name: 724, dtype: object\n"
     ]
    }
   ],
   "source": [
    "print(total_data.loc[717])\n",
    "print(total_data.loc[724])"
   ]
  },
  {
   "cell_type": "code",
   "execution_count": 7,
   "id": "38eef3f5",
   "metadata": {},
   "outputs": [
    {
     "name": "stderr",
     "output_type": "stream",
     "text": [
      "/Users/byeorikim/opt/anaconda3/lib/python3.7/site-packages/pandas/core/indexing.py:1732: SettingWithCopyWarning: \n",
      "A value is trying to be set on a copy of a slice from a DataFrame\n",
      "\n",
      "See the caveats in the documentation: https://pandas.pydata.org/pandas-docs/stable/user_guide/indexing.html#returning-a-view-versus-a-copy\n",
      "  self._setitem_single_block(indexer, value, name)\n",
      "/Users/byeorikim/opt/anaconda3/lib/python3.7/site-packages/pandas/core/indexing.py:723: SettingWithCopyWarning: \n",
      "A value is trying to be set on a copy of a slice from a DataFrame\n",
      "\n",
      "See the caveats in the documentation: https://pandas.pydata.org/pandas-docs/stable/user_guide/indexing.html#returning-a-view-versus-a-copy\n",
      "  iloc._setitem_with_indexer(indexer, value, self.name)\n"
     ]
    },
    {
     "data": {
      "text/html": [
       "<div>\n",
       "<style scoped>\n",
       "    .dataframe tbody tr th:only-of-type {\n",
       "        vertical-align: middle;\n",
       "    }\n",
       "\n",
       "    .dataframe tbody tr th {\n",
       "        vertical-align: top;\n",
       "    }\n",
       "\n",
       "    .dataframe thead th {\n",
       "        text-align: right;\n",
       "    }\n",
       "</style>\n",
       "<table border=\"1\" class=\"dataframe\">\n",
       "  <thead>\n",
       "    <tr style=\"text-align: right;\">\n",
       "      <th></th>\n",
       "      <th>place</th>\n",
       "      <th>tag_title</th>\n",
       "      <th>tag_count</th>\n",
       "    </tr>\n",
       "  </thead>\n",
       "  <tbody>\n",
       "    <tr>\n",
       "      <th>0</th>\n",
       "      <td>컵 오브 컴포트</td>\n",
       "      <td>['친절해요', '매장이 청결해요', '집중하기 좋아요', '커피가 맛있어요', '...</td>\n",
       "      <td>[8, 6, 6, 5, 3]</td>\n",
       "    </tr>\n",
       "    <tr>\n",
       "      <th>1</th>\n",
       "      <td>피터패트</td>\n",
       "      <td>['커피가 맛있어요', '디저트가 맛있어요', '친절해요', '인테리어가 멋져요',...</td>\n",
       "      <td>[164, 136, 83, 76, 70]</td>\n",
       "    </tr>\n",
       "    <tr>\n",
       "      <th>2</th>\n",
       "      <td>도로도로커피숍</td>\n",
       "      <td>['커피가 맛있어요', '디저트가 맛있어요', '음료가 맛있어요', '인테리어가 멋...</td>\n",
       "      <td>[80, 62, 49, 44, 42]</td>\n",
       "    </tr>\n",
       "    <tr>\n",
       "      <th>3</th>\n",
       "      <td>LITITCOFFEE</td>\n",
       "      <td>['커피가 맛있어요', '친절해요', '매장이 청결해요', '집중하기 좋아요', '...</td>\n",
       "      <td>[23, 15, 15, 14, 11]</td>\n",
       "    </tr>\n",
       "    <tr>\n",
       "      <th>4</th>\n",
       "      <td>달콤쌉싸롱</td>\n",
       "      <td>['커피가 맛있어요', '가성비가 좋아요', '집중하기 좋아요', '친절해요', '...</td>\n",
       "      <td>[52, 36, 31, 28, 27]</td>\n",
       "    </tr>\n",
       "    <tr>\n",
       "      <th>...</th>\n",
       "      <td>...</td>\n",
       "      <td>...</td>\n",
       "      <td>...</td>\n",
       "    </tr>\n",
       "    <tr>\n",
       "      <th>550</th>\n",
       "      <td>만화카페통툰 안암점</td>\n",
       "      <td>['친절해요', '읽을만한 책이 많아요', '가성비가 좋아요', '좌석이 편해요',...</td>\n",
       "      <td>[6, 3, 3, 2, 2]</td>\n",
       "    </tr>\n",
       "    <tr>\n",
       "      <th>551</th>\n",
       "      <td>카페오아시아</td>\n",
       "      <td>['커피가 맛있어요', '친절해요', '가성비가 좋아요', '대화하기 좋아요', '...</td>\n",
       "      <td>[13, 6, 4, 4, 2]</td>\n",
       "    </tr>\n",
       "    <tr>\n",
       "      <th>552</th>\n",
       "      <td>동네책방</td>\n",
       "      <td>['커피가 맛있어요', '친절해요', '대화하기 좋아요', '음료가 맛있어요', '...</td>\n",
       "      <td>[21, 20, 12, 11, 7]</td>\n",
       "    </tr>\n",
       "    <tr>\n",
       "      <th>553</th>\n",
       "      <td>책으로가는문</td>\n",
       "      <td>['인테리어가 멋져요', '읽을만한 책이 많아요', '집중하기 좋아요', '좌석이 ...</td>\n",
       "      <td>[69, 57, 42, 35, 22]</td>\n",
       "    </tr>\n",
       "    <tr>\n",
       "      <th>554</th>\n",
       "      <td>청년이음 북카페 &amp; 공방</td>\n",
       "      <td>['커피가 맛있어요', '가성비가 좋아요', '음료가 맛있어요', '친절해요', '...</td>\n",
       "      <td>[17, 13, 12, 11, 3]</td>\n",
       "    </tr>\n",
       "  </tbody>\n",
       "</table>\n",
       "<p>555 rows × 3 columns</p>\n",
       "</div>"
      ],
      "text/plain": [
       "             place                                          tag_title  \\\n",
       "0         컵 오브 컴포트  ['친절해요', '매장이 청결해요', '집중하기 좋아요', '커피가 맛있어요', '...   \n",
       "1             피터패트  ['커피가 맛있어요', '디저트가 맛있어요', '친절해요', '인테리어가 멋져요',...   \n",
       "2          도로도로커피숍  ['커피가 맛있어요', '디저트가 맛있어요', '음료가 맛있어요', '인테리어가 멋...   \n",
       "3      LITITCOFFEE  ['커피가 맛있어요', '친절해요', '매장이 청결해요', '집중하기 좋아요', '...   \n",
       "4            달콤쌉싸롱  ['커피가 맛있어요', '가성비가 좋아요', '집중하기 좋아요', '친절해요', '...   \n",
       "..             ...                                                ...   \n",
       "550     만화카페통툰 안암점  ['친절해요', '읽을만한 책이 많아요', '가성비가 좋아요', '좌석이 편해요',...   \n",
       "551         카페오아시아  ['커피가 맛있어요', '친절해요', '가성비가 좋아요', '대화하기 좋아요', '...   \n",
       "552           동네책방  ['커피가 맛있어요', '친절해요', '대화하기 좋아요', '음료가 맛있어요', '...   \n",
       "553         책으로가는문  ['인테리어가 멋져요', '읽을만한 책이 많아요', '집중하기 좋아요', '좌석이 ...   \n",
       "554  청년이음 북카페 & 공방  ['커피가 맛있어요', '가성비가 좋아요', '음료가 맛있어요', '친절해요', '...   \n",
       "\n",
       "                  tag_count  \n",
       "0           [8, 6, 6, 5, 3]  \n",
       "1    [164, 136, 83, 76, 70]  \n",
       "2      [80, 62, 49, 44, 42]  \n",
       "3      [23, 15, 15, 14, 11]  \n",
       "4      [52, 36, 31, 28, 27]  \n",
       "..                      ...  \n",
       "550         [6, 3, 3, 2, 2]  \n",
       "551        [13, 6, 4, 4, 2]  \n",
       "552     [21, 20, 12, 11, 7]  \n",
       "553    [69, 57, 42, 35, 22]  \n",
       "554     [17, 13, 12, 11, 3]  \n",
       "\n",
       "[555 rows x 3 columns]"
      ]
     },
     "execution_count": 7,
     "metadata": {},
     "output_type": "execute_result"
    }
   ],
   "source": [
    "# 직접 사이트에서 다음 장소에 대한 키워드를 찾아서 추가\n",
    "# 달빛 정거장 ==> ['친절해요', '읽을만한 책이 많아요', '좌석이 편해요', '집중하기 좋아요', '인테리어가 멋져요']\n",
    "# 즐거운다락방부천시청점 ==> ['읽을만한 책이 많아요', '음료가 맛있어요', '친절해요', '가성비가 좋아요', '커피가 맛있어요']\n",
    "\n",
    "total_data.loc[717, 'tag_title'] = ['친절해요', '읽을만한 책이 많아요', '좌석이 편해요', '집중하기 좋아요', '인테리어가 멋져요']\n",
    "total_data.loc[724, 'tag_title'] = ['읽을만한 책이 많아요', '음료가 맛있어요', '친절해요', '가성비가 좋아요', '커피가 맛있어요']\n",
    "total_data.isna().sum()\n",
    "\n",
    "total_data.index = np.arange(0, len(total_data), 1) # 인덱스 리셋\n",
    "total_data"
   ]
  },
  {
   "cell_type": "code",
   "execution_count": 8,
   "id": "604d4da8",
   "metadata": {},
   "outputs": [
    {
     "name": "stderr",
     "output_type": "stream",
     "text": [
      "/Users/byeorikim/opt/anaconda3/lib/python3.7/site-packages/ipykernel_launcher.py:23: SettingWithCopyWarning: \n",
      "A value is trying to be set on a copy of a slice from a DataFrame\n",
      "\n",
      "See the caveats in the documentation: https://pandas.pydata.org/pandas-docs/stable/user_guide/indexing.html#returning-a-view-versus-a-copy\n",
      "/Users/byeorikim/opt/anaconda3/lib/python3.7/site-packages/ipykernel_launcher.py:24: SettingWithCopyWarning: \n",
      "A value is trying to be set on a copy of a slice from a DataFrame\n",
      "\n",
      "See the caveats in the documentation: https://pandas.pydata.org/pandas-docs/stable/user_guide/indexing.html#returning-a-view-versus-a-copy\n"
     ]
    },
    {
     "data": {
      "text/plain": [
       "{'친절해요': 412,\n",
       " '매장이청결해요': 164,\n",
       " '집중하기좋아요': 78,\n",
       " '커피가맛있어요': 518,\n",
       " '좌석이편해요': 31,\n",
       " '디저트가맛있어요': 331,\n",
       " '인테리어가멋져요': 298,\n",
       " '음료가맛있어요': 430,\n",
       " '가성비가좋아요': 74,\n",
       " '대화하기좋아요': 130,\n",
       " '특별한메뉴가있어요': 150,\n",
       " '사진이잘나와요': 30,\n",
       " '빵이맛있어요': 39,\n",
       " '주차하기편해요': 8,\n",
       " '뷰가좋아요': 30,\n",
       " '읽을만한책이많아요': 38,\n",
       " '선물하기좋아요': 3,\n",
       " '차가맛있어요': 6,\n",
       " '음식이맛있어요': 2,\n",
       " '매장이넓어요': 1,\n",
       " '화장실이깨끗해요': 2}"
      ]
     },
     "execution_count": 8,
     "metadata": {},
     "output_type": "execute_result"
    }
   ],
   "source": [
    "# string에서 str 리스트로 바꾸기, data 처리\n",
    "\n",
    "for i in range(len(total_data)):\n",
    "    tmp_title = str(total_data.tag_title[i]).split(',')\n",
    "    tmp_count = str(total_data.tag_count[i]).split(',')\n",
    "    tmp_title[0] = tmp_title[0].replace('[', '').replace(\"'\", '').replace(\"'\", '')\n",
    "    tmp_title[1] = tmp_title[1].replace(' ', '').replace(\"'\", '').replace(\"'\", '')\n",
    "    tmp_title[2] = tmp_title[2].replace(' ', '').replace(\"'\", '').replace(\"'\", '')\n",
    "    tmp_title[3] = tmp_title[3].replace(' ', '').replace(\"'\", '').replace(\"'\", '')\n",
    "    tmp_title[4] = tmp_title[4].replace(' ', '').replace(\"'\", '').replace(\"'\", '').replace(']', '')\n",
    "    \n",
    "    tmp_count[0] = tmp_count[0].replace(\"[\", '').replace(\"'\", '')\n",
    "    tmp_count[1] = tmp_count[1].replace(\"'\", '').replace(\"'\", '')\n",
    "    tmp_count[2] = tmp_count[2].replace(\"'\", '').replace(\"'\", '')\n",
    "    tmp_count[3] = tmp_count[3].replace(\"'\", '').replace(\"'\", '')\n",
    "    tmp_count[4] = tmp_count[4].replace(\"'\", '').replace(\"]\", '')\n",
    "    \n",
    "    \n",
    "    # str -> int로\n",
    "    for j in range(len(tmp_count)):\n",
    "        tmp_count[j] = int(tmp_count[j])\n",
    "        \n",
    "    total_data['tag_title'][i] = tmp_title\n",
    "    total_data['tag_count'][i] = tmp_count\n",
    "    \n",
    "# dictionary 생성하기 \n",
    "\n",
    "keyword_dict = {} # key는 keyword, value는 등장 횟수\n",
    "\n",
    "for i in range(len(total_data)):\n",
    "    for j in range(5):\n",
    "        find_key = total_data['tag_title'][i][j]\n",
    "        idx = find_key.find(' ')\n",
    "        while idx > -1:\n",
    "            find_key = find_key.replace(' ', '')\n",
    "            idx = find_key.find(' ')\n",
    "    \n",
    "        if find_key in keyword_dict:\n",
    "            keyword_dict[find_key] += 1\n",
    "        \n",
    "        else:\n",
    "            keyword_dict[find_key] = 1\n",
    "            \n",
    "keyword_dict"
   ]
  },
  {
   "cell_type": "markdown",
   "id": "186f1dfb",
   "metadata": {},
   "source": [
    "### 2. bookcafe Data 가공\n",
    "- 주로 공부, 독서를 하러 가는 북카페에 대한 리뷰만 분석해보기"
   ]
  },
  {
   "cell_type": "code",
   "execution_count": 9,
   "id": "3ae728ad",
   "metadata": {},
   "outputs": [
    {
     "data": {
      "text/plain": [
       "place          0\n",
       "tag_title    161\n",
       "tag_count    159\n",
       "dtype: int64"
      ]
     },
     "execution_count": 9,
     "metadata": {},
     "output_type": "execute_result"
    }
   ],
   "source": [
    "for i in range(len(bookcafe_data)):\n",
    "    if len(bookcafe_data['tag_title'][i]) == 2:\n",
    "        bookcafe_data['tag_title'][i] = np.nan\n",
    "    \n",
    "    if len(bookcafe_data['tag_count'][i]) == 2:\n",
    "        bookcafe_data['tag_count'][i] = np.nan\n",
    "        \n",
    "bookcafe_data.isna().sum() # bookcafe_data 결측치"
   ]
  },
  {
   "cell_type": "code",
   "execution_count": 10,
   "id": "d77b7a3c",
   "metadata": {},
   "outputs": [
    {
     "name": "stdout",
     "output_type": "stream",
     "text": [
      "place        0\n",
      "tag_title    2\n",
      "tag_count    0\n",
      "dtype: int64\n"
     ]
    },
    {
     "data": {
      "text/plain": [
       "217    NaN\n",
       "224    NaN\n",
       "Name: tag_title, dtype: object"
      ]
     },
     "execution_count": 10,
     "metadata": {},
     "output_type": "execute_result"
    }
   ],
   "source": [
    "#tag_title, tag_count 전부 nan 인것은 드랍하기\n",
    "bookcafe_data = bookcafe_data.dropna(subset=['tag_count'])\n",
    "print(bookcafe_data.isna().sum())\n",
    "\n",
    "bookcafe_data['tag_title'][bookcafe_data['tag_title'].isnull()]"
   ]
  },
  {
   "cell_type": "code",
   "execution_count": 11,
   "id": "3efebf00",
   "metadata": {},
   "outputs": [
    {
     "name": "stdout",
     "output_type": "stream",
     "text": [
      "place                       달빛정거장\n",
      "tag_title                     NaN\n",
      "tag_count    [19, 17, 16, 15, 10]\n",
      "Name: 217, dtype: object\n",
      "place             즐거운다락방부천시청점\n",
      "tag_title                 NaN\n",
      "tag_count    [11, 3, 3, 3, 2]\n",
      "Name: 224, dtype: object\n"
     ]
    }
   ],
   "source": [
    "print(bookcafe_data.loc[217])\n",
    "print(bookcafe_data.loc[224])"
   ]
  },
  {
   "cell_type": "code",
   "execution_count": 12,
   "id": "df050323",
   "metadata": {},
   "outputs": [
    {
     "data": {
      "text/html": [
       "<div>\n",
       "<style scoped>\n",
       "    .dataframe tbody tr th:only-of-type {\n",
       "        vertical-align: middle;\n",
       "    }\n",
       "\n",
       "    .dataframe tbody tr th {\n",
       "        vertical-align: top;\n",
       "    }\n",
       "\n",
       "    .dataframe thead th {\n",
       "        text-align: right;\n",
       "    }\n",
       "</style>\n",
       "<table border=\"1\" class=\"dataframe\">\n",
       "  <thead>\n",
       "    <tr style=\"text-align: right;\">\n",
       "      <th></th>\n",
       "      <th>place</th>\n",
       "      <th>tag_title</th>\n",
       "      <th>tag_count</th>\n",
       "    </tr>\n",
       "  </thead>\n",
       "  <tbody>\n",
       "    <tr>\n",
       "      <th>0</th>\n",
       "      <td>지오북카페</td>\n",
       "      <td>['커피가 맛있어요', '집중하기 좋아요', '읽을만한 책이 많아요', '좌석이 편...</td>\n",
       "      <td>[7, 7, 4, 4, 4]</td>\n",
       "    </tr>\n",
       "    <tr>\n",
       "      <th>1</th>\n",
       "      <td>청맥살롱</td>\n",
       "      <td>['친절해요', '커피가 맛있어요', '집중하기 좋아요', '대화하기 좋아요', '...</td>\n",
       "      <td>[12, 10, 10, 10, 7]</td>\n",
       "    </tr>\n",
       "    <tr>\n",
       "      <th>2</th>\n",
       "      <td>자상한시간</td>\n",
       "      <td>['커피가 맛있어요', '친절해요', '음료가 맛있어요', '집중하기 좋아요', '...</td>\n",
       "      <td>[11, 6, 3, 3, 3]</td>\n",
       "    </tr>\n",
       "    <tr>\n",
       "      <th>3</th>\n",
       "      <td>채그로</td>\n",
       "      <td>['뷰가 좋아요', '커피가 맛있어요', '인테리어가 멋져요', '읽을만한 책이 많...</td>\n",
       "      <td>[26, 17, 13, 12, 11]</td>\n",
       "    </tr>\n",
       "    <tr>\n",
       "      <th>4</th>\n",
       "      <td>서울북카페 욕망의북카페</td>\n",
       "      <td>['집중하기 좋아요', '읽을만한 책이 많아요', '좌석이 편해요', '친절해요',...</td>\n",
       "      <td>[282, 179, 173, 162, 132]</td>\n",
       "    </tr>\n",
       "    <tr>\n",
       "      <th>...</th>\n",
       "      <td>...</td>\n",
       "      <td>...</td>\n",
       "      <td>...</td>\n",
       "    </tr>\n",
       "    <tr>\n",
       "      <th>86</th>\n",
       "      <td>만화카페통툰 안암점</td>\n",
       "      <td>['친절해요', '읽을만한 책이 많아요', '가성비가 좋아요', '좌석이 편해요',...</td>\n",
       "      <td>[6, 3, 3, 2, 2]</td>\n",
       "    </tr>\n",
       "    <tr>\n",
       "      <th>87</th>\n",
       "      <td>카페오아시아</td>\n",
       "      <td>['커피가 맛있어요', '친절해요', '가성비가 좋아요', '대화하기 좋아요', '...</td>\n",
       "      <td>[13, 6, 4, 4, 2]</td>\n",
       "    </tr>\n",
       "    <tr>\n",
       "      <th>88</th>\n",
       "      <td>동네책방</td>\n",
       "      <td>['커피가 맛있어요', '친절해요', '대화하기 좋아요', '음료가 맛있어요', '...</td>\n",
       "      <td>[21, 20, 12, 11, 7]</td>\n",
       "    </tr>\n",
       "    <tr>\n",
       "      <th>89</th>\n",
       "      <td>책으로가는문</td>\n",
       "      <td>['인테리어가 멋져요', '읽을만한 책이 많아요', '집중하기 좋아요', '좌석이 ...</td>\n",
       "      <td>[69, 57, 42, 35, 22]</td>\n",
       "    </tr>\n",
       "    <tr>\n",
       "      <th>90</th>\n",
       "      <td>청년이음 북카페 &amp; 공방</td>\n",
       "      <td>['커피가 맛있어요', '가성비가 좋아요', '음료가 맛있어요', '친절해요', '...</td>\n",
       "      <td>[17, 13, 12, 11, 3]</td>\n",
       "    </tr>\n",
       "  </tbody>\n",
       "</table>\n",
       "<p>91 rows × 3 columns</p>\n",
       "</div>"
      ],
      "text/plain": [
       "            place                                          tag_title  \\\n",
       "0           지오북카페  ['커피가 맛있어요', '집중하기 좋아요', '읽을만한 책이 많아요', '좌석이 편...   \n",
       "1            청맥살롱  ['친절해요', '커피가 맛있어요', '집중하기 좋아요', '대화하기 좋아요', '...   \n",
       "2           자상한시간  ['커피가 맛있어요', '친절해요', '음료가 맛있어요', '집중하기 좋아요', '...   \n",
       "3             채그로  ['뷰가 좋아요', '커피가 맛있어요', '인테리어가 멋져요', '읽을만한 책이 많...   \n",
       "4    서울북카페 욕망의북카페  ['집중하기 좋아요', '읽을만한 책이 많아요', '좌석이 편해요', '친절해요',...   \n",
       "..            ...                                                ...   \n",
       "86     만화카페통툰 안암점  ['친절해요', '읽을만한 책이 많아요', '가성비가 좋아요', '좌석이 편해요',...   \n",
       "87         카페오아시아  ['커피가 맛있어요', '친절해요', '가성비가 좋아요', '대화하기 좋아요', '...   \n",
       "88           동네책방  ['커피가 맛있어요', '친절해요', '대화하기 좋아요', '음료가 맛있어요', '...   \n",
       "89         책으로가는문  ['인테리어가 멋져요', '읽을만한 책이 많아요', '집중하기 좋아요', '좌석이 ...   \n",
       "90  청년이음 북카페 & 공방  ['커피가 맛있어요', '가성비가 좋아요', '음료가 맛있어요', '친절해요', '...   \n",
       "\n",
       "                    tag_count  \n",
       "0             [7, 7, 4, 4, 4]  \n",
       "1         [12, 10, 10, 10, 7]  \n",
       "2            [11, 6, 3, 3, 3]  \n",
       "3        [26, 17, 13, 12, 11]  \n",
       "4   [282, 179, 173, 162, 132]  \n",
       "..                        ...  \n",
       "86            [6, 3, 3, 2, 2]  \n",
       "87           [13, 6, 4, 4, 2]  \n",
       "88        [21, 20, 12, 11, 7]  \n",
       "89       [69, 57, 42, 35, 22]  \n",
       "90        [17, 13, 12, 11, 3]  \n",
       "\n",
       "[91 rows x 3 columns]"
      ]
     },
     "execution_count": 12,
     "metadata": {},
     "output_type": "execute_result"
    }
   ],
   "source": [
    "# 직접 사이트에서 다음 장소에 대한 키워드를 찾아서 추가\n",
    "# 달빛 정거장 ==> ['친절해요', '읽을만한 책이 많아요', '좌석이 편해요', '집중하기 좋아요', '인테리어가 멋져요']\n",
    "# 즐거운다락방부천시청점 ==> ['읽을만한 책이 많아요', '음료가 맛있어요', '친절해요', '가성비가 좋아요', '커피가 맛있어요']\n",
    "\n",
    "bookcafe_data.loc[217, 'tag_title'] = ['친절해요', '읽을만한 책이 많아요', '좌석이 편해요', '집중하기 좋아요', '인테리어가 멋져요']\n",
    "bookcafe_data.loc[224, 'tag_title'] = ['읽을만한 책이 많아요', '음료가 맛있어요', '친절해요', '가성비가 좋아요', '커피가 맛있어요']\n",
    "bookcafe_data.isna().sum()\n",
    "\n",
    "bookcafe_data.index = np.arange(0, len(bookcafe_data), 1) # 인덱스 리셋\n",
    "bookcafe_data"
   ]
  },
  {
   "cell_type": "code",
   "execution_count": 13,
   "id": "6b7b3e5e",
   "metadata": {},
   "outputs": [
    {
     "data": {
      "text/plain": [
       "{'커피가맛있어요': 83,\n",
       " '집중하기좋아요': 37,\n",
       " '읽을만한책이많아요': 33,\n",
       " '좌석이편해요': 18,\n",
       " '음료가맛있어요': 64,\n",
       " '친절해요': 70,\n",
       " '대화하기좋아요': 30,\n",
       " '뷰가좋아요': 7,\n",
       " '인테리어가멋져요': 34,\n",
       " '화장실이깨끗해요': 2,\n",
       " '디저트가맛있어요': 19,\n",
       " '특별한메뉴가있어요': 9,\n",
       " '가성비가좋아요': 32,\n",
       " '주차하기편해요': 4,\n",
       " '빵이맛있어요': 2,\n",
       " '사진이잘나와요': 6,\n",
       " '매장이청결해요': 5}"
      ]
     },
     "execution_count": 13,
     "metadata": {},
     "output_type": "execute_result"
    }
   ],
   "source": [
    "# string에서 str 리스트로 바꾸기, data 처리\n",
    "# '커피가 맛있어요', '커피가맛있어요' 이런 식으로 띄어쓰기에 의해 keyword가 분리되는 것을 구분하고\n",
    "# [] 와 같은 리스트 표시, 띄어쓰기로 인해 다르게 분류 되는 것 등등을 예방하기 위한 처리를 진행\n",
    "\n",
    "for i in range(len(bookcafe_data)):\n",
    "    tmp_title = str(bookcafe_data.tag_title[i]).split(',')\n",
    "    tmp_count = str(bookcafe_data.tag_count[i]).split(',')\n",
    "    tmp_title[0] = tmp_title[0].replace('[', '').replace(\"'\", '').replace(\"'\", '')\n",
    "    tmp_title[1] = tmp_title[1].replace(' ', '').replace(\"'\", '').replace(\"'\", '')\n",
    "    tmp_title[2] = tmp_title[2].replace(' ', '').replace(\"'\", '').replace(\"'\", '')\n",
    "    tmp_title[3] = tmp_title[3].replace(' ', '').replace(\"'\", '').replace(\"'\", '')\n",
    "    tmp_title[4] = tmp_title[4].replace(' ', '').replace(\"'\", '').replace(\"'\", '').replace(']', '')\n",
    "    \n",
    "    tmp_count[0] = tmp_count[0].replace(\"[\", '').replace(\"'\", '')\n",
    "    tmp_count[1] = tmp_count[1].replace(\"'\", '').replace(\"'\", '')\n",
    "    tmp_count[2] = tmp_count[2].replace(\"'\", '').replace(\"'\", '')\n",
    "    tmp_count[3] = tmp_count[3].replace(\"'\", '').replace(\"'\", '')\n",
    "    tmp_count[4] = tmp_count[4].replace(\"'\", '').replace(\"]\", '')\n",
    "    \n",
    "    \n",
    "    # str -> int로(count로 덧셈을 해서 정리해야 하므로)\n",
    "    for j in range(len(tmp_count)):\n",
    "        tmp_count[j] = int(tmp_count[j])\n",
    "        \n",
    "    bookcafe_data['tag_title'][i] = tmp_title\n",
    "    bookcafe_data['tag_count'][i] = tmp_count\n",
    "    \n",
    "# dictionary 생성하기 \n",
    "\n",
    "bc_keyword_dict = {} # key는 keyword, value는 등장 횟수\n",
    "\n",
    "for i in range(len(bookcafe_data)):\n",
    "    for j in range(5):\n",
    "        find_key = bookcafe_data['tag_title'][i][j]\n",
    "        idx = find_key.find(' ')\n",
    "        while idx > -1:\n",
    "            find_key = find_key.replace(' ', '')\n",
    "            idx = find_key.find(' ')\n",
    "    \n",
    "        if find_key in bc_keyword_dict:\n",
    "            bc_keyword_dict[find_key] += 1\n",
    "        \n",
    "        else:\n",
    "            bc_keyword_dict[find_key] = 1\n",
    "            \n",
    "bc_keyword_dict"
   ]
  },
  {
   "cell_type": "markdown",
   "id": "c1a0b27a",
   "metadata": {},
   "source": [
    "### 3. plot data"
   ]
  },
  {
   "cell_type": "code",
   "execution_count": 14,
   "id": "d4ffac26",
   "metadata": {},
   "outputs": [],
   "source": [
    "# total data plot하기 위한 데이터프레임\n",
    "plot_total = pd.DataFrame({'keyword' : keyword_dict.keys(),\n",
    "                         'count' : keyword_dict.values()})\n",
    "\n",
    "plot_total = plot_total.set_index('keyword')\n",
    "\n",
    "# bookcafe data plot하기 위한 데이터프레임\n",
    "plot_bookcafe = pd.DataFrame({'keyword' : bc_keyword_dict.keys(),\n",
    "                         'count' : bc_keyword_dict.values()})\n",
    "\n",
    "plot_bookcafe = plot_bookcafe.set_index('keyword')"
   ]
  },
  {
   "cell_type": "code",
   "execution_count": 15,
   "id": "0900f3b2",
   "metadata": {},
   "outputs": [
    {
     "data": {
      "text/plain": [
       "<AxesSubplot:xlabel='keyword'>"
      ]
     },
     "execution_count": 15,
     "metadata": {},
     "output_type": "execute_result"
    },
    {
     "data": {
      "image/png": "[encoded data removed]",
      "text/plain": [
       "<Figure size 432x288 with 1 Axes>"
      ]
     },
     "metadata": {
      "needs_background": "light"
     },
     "output_type": "display_data"
    }
   ],
   "source": [
    "import matplotlib.pyplot as plt\n",
    "from matplotlib import rc\n",
    "import seaborn as sns\n",
    "%matplotlib inline\n",
    "\n",
    "rc('font', family='AppleGothic')\n",
    "plt.rcParams['axes.unicode_minus'] = False # 글씨 깨지는 것 방지\n",
    "\n",
    "plot_total = plot_total['count'].sort_values(ascending=False)\n",
    "plot_total.plot(kind='bar')"
   ]
  },
  {
   "cell_type": "code",
   "execution_count": 16,
   "id": "d811e9ff",
   "metadata": {},
   "outputs": [
    {
     "data": {
      "text/plain": [
       "<AxesSubplot:xlabel='keyword'>"
      ]
     },
     "execution_count": 16,
     "metadata": {},
     "output_type": "execute_result"
    },
    {
     "data": {
      "image/png": "[encoded data removed]",
      "text/plain": [
       "<Figure size 432x288 with 1 Axes>"
      ]
     },
     "metadata": {
      "needs_background": "light"
     },
     "output_type": "display_data"
    }
   ],
   "source": [
    "plot_bookcafe = plot_bookcafe['count'].sort_values(ascending=False)\n",
    "plot_bookcafe.plot(kind='bar')"
   ]
  },
  {
   "cell_type": "markdown",
   "id": "1122760a",
   "metadata": {},
   "source": [
    "- 기본적으로 '커피가 맛있다', '친절하다', '음료가 맛있다'가 공동 1-3위를 차지한다.\n",
    "\n",
    "- 메뉴와 관련된 키워드를 제외하고 분석하면\n",
    "- 북카페의 경우 그 다음으로는 '집중하기 좋다', '인테리어', '가성비', '대화하기 좋은', '좌석 편함'이 주로 비중을 차지하며\n",
    "- 전체 조용한 카페와 북카페 데이터를 통합하였을 때 결과는 '인테리어', '청결', '대화하기 좋은', '집중하기 좋은', '가성비' 등이 주로 비중을 차지함."
   ]
  },
  {
   "cell_type": "code",
   "execution_count": null,
   "id": "d45f22b9",
   "metadata": {},
   "outputs": [],
   "source": []
  }
 ],
 "metadata": {
  "kernelspec": {
   "display_name": "Python 3 (ipykernel)",
   "language": "python",
   "name": "python3"
  },
  "language_info": {
   "codemirror_mode": {
    "name": "ipython",
    "version": 3
   },
   "file_extension": ".py",
   "mimetype": "text/x-python",
   "name": "python",
   "nbconvert_exporter": "python",
   "pygments_lexer": "ipython3",
   "version": "3.7.13"
  }
 },
 "nbformat": 4,
 "nbformat_minor": 5
}
